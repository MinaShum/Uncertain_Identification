{
 "cells": [
  {
   "cell_type": "code",
   "execution_count": 1,
   "id": "cff2ad9e",
   "metadata": {},
   "outputs": [
    {
     "name": "stderr",
     "output_type": "stream",
     "text": [
      "11:01:30 - cmdstanpy - INFO - Add C++ toolchain to $PATH: C:\\Users\\mshumaly\\.cmdstan\\RTools40\n"
     ]
    },
    {
     "name": "stdout",
     "output_type": "stream",
     "text": [
      "CmdStan install directory: C:\\Users\\mshumaly\\.cmdstan\n",
      "Installing CmdStan version: 2.36.0\n",
      "Downloading CmdStan version 2.36.0\n",
      "Download successful, file: C:\\Users\\mshumaly\\AppData\\Local\\Temp\\tmppxz7nwtr\n",
      "Extracting distribution\n",
      "Unpacked download as cmdstan-2.36.0\n",
      "Building version cmdstan-2.36.0, may take several minutes, depending on your system.\n",
      "Installed cmdstan-2.36.0\n",
      "Test model compilation\n"
     ]
    },
    {
     "data": {
      "text/plain": [
       "True"
      ]
     },
     "execution_count": 1,
     "metadata": {},
     "output_type": "execute_result"
    }
   ],
   "source": [
    "# Load needed libraries\n",
    "\n",
    "import os\n",
    "import numpy as np\n",
    "import pandas as pd\n",
    "import cmdstanpy\n",
    "from cmdstanpy.model import CmdStanModel\n",
    "from cmdstanpy.utils import cmdstan_path\n",
    "cmdstanpy.install_cmdstan(compiler=True)"
   ]
  },
  {
   "cell_type": "code",
   "execution_count": 2,
   "id": "5ceca4d5",
   "metadata": {},
   "outputs": [
    {
     "name": "stderr",
     "output_type": "stream",
     "text": [
      "11:08:22 - cmdstanpy - INFO - compiling stan file C:\\Users\\mshumaly\\Uncertain_Identification\\HorseDataset\\VB\\Model.stan to exe file C:\\Users\\mshumaly\\Uncertain_Identification\\HorseDataset\\VB\\Model.exe\n",
      "11:08:47 - cmdstanpy - INFO - compiled model executable: C:\\Users\\mshumaly\\Uncertain_Identification\\HorseDataset\\VB\\Model.exe\n"
     ]
    }
   ],
   "source": [
    "# Compile stan model\n",
    "\n",
    "model = CmdStanModel(stan_file=r'Model.stan')"
   ]
  },
  {
   "cell_type": "code",
   "execution_count": 3,
   "id": "576f2736",
   "metadata": {},
   "outputs": [
    {
     "name": "stderr",
     "output_type": "stream",
     "text": [
      "11:09:04 - cmdstanpy - INFO - Chain [1] start processing\n",
      "11:16:45 - cmdstanpy - INFO - Chain [1] done processing\n",
      "11:20:01 - cmdstanpy - WARNING - The default behavior of CmdStanVB.stan_variable() will change in a future release to return the variational sample, rather than the mean.\n",
      "To maintain the current behavior, pass the argument mean=True\n",
      "11:20:01 - cmdstanpy - WARNING - The default behavior of CmdStanVB.stan_variable(mean=True) will change in a future release to always return a numpy.ndarray, even for scalar variables.\n",
      "11:20:01 - cmdstanpy - WARNING - The default behavior of CmdStanVB.stan_variable() will change in a future release to return the variational sample, rather than the mean.\n",
      "To maintain the current behavior, pass the argument mean=True\n",
      "11:20:01 - cmdstanpy - WARNING - The default behavior of CmdStanVB.stan_variable(mean=True) will change in a future release to always return a numpy.ndarray, even for scalar variables.\n",
      "11:20:01 - cmdstanpy - WARNING - The default behavior of CmdStanVB.stan_variable() will change in a future release to return the variational sample, rather than the mean.\n",
      "To maintain the current behavior, pass the argument mean=True\n",
      "11:20:01 - cmdstanpy - WARNING - The default behavior of CmdStanVB.stan_variable() will change in a future release to return the variational sample, rather than the mean.\n",
      "To maintain the current behavior, pass the argument mean=True\n",
      "11:20:01 - cmdstanpy - WARNING - The default behavior of CmdStanVB.stan_variable() will change in a future release to return the variational sample, rather than the mean.\n",
      "To maintain the current behavior, pass the argument mean=True\n"
     ]
    }
   ],
   "source": [
    "# Run CmdStan's variational inference method, returns object `CmdStanVB`\n",
    "\n",
    "vi = model.variational(data=\"scenario1_1.json\", grad_samples = 20)\n",
    "\n",
    "a = vi.stan_variable(\"s2_e\")\n",
    "b = vi.stan_variable(\"s2_h\")\n",
    "c = vi.stan_variable(\"trt_eff\")\n",
    "c1, c2 = c\n",
    "df = pd.DataFrame({'a': [a], 'b': [b], 'c1': [c1], 'c2': [c2]})\n",
    "d = vi.stan_variable(\"horse_eff\")\n",
    "e = vi.stan_variable(\"horse_probs\")"
   ]
  },
  {
   "cell_type": "code",
   "execution_count": 7,
   "id": "d1e8f996",
   "metadata": {},
   "outputs": [
    {
     "name": "stdout",
     "output_type": "stream",
     "text": [
      "=== Variables residual variance, individual variance, group 1, group 2 mean ===\n",
      "      a       b       c1        c2\n",
      "10.1938 1.22698 0.038936 -0.091863\n",
      "\n",
      "=== Individual effects and posterior probability matrix dimensions ===\n",
      "d (horse_eff) dimension: (30,)\n",
      "e (horse_probs) dimension: (3226, 30)\n"
     ]
    }
   ],
   "source": [
    "# Print and check the estimarions\n",
    "\n",
    "print(\"=== Variables residual variance, individual variance, group 1, group 2 mean ===\")\n",
    "print(df.to_string(index=False))\n",
    "\n",
    "print(\"\\n=== Individual effects and posterior probability matrix dimensions ===\")\n",
    "print(f\"d (horse_eff) dimension: {d.shape}\")\n",
    "print(f\"e (horse_probs) dimension: {e.shape}\")"
   ]
  },
  {
   "cell_type": "code",
   "execution_count": null,
   "id": "a1853688",
   "metadata": {},
   "outputs": [],
   "source": []
  }
 ],
 "metadata": {
  "kernelspec": {
   "display_name": "Python 3 (ipykernel)",
   "language": "python",
   "name": "python3"
  },
  "language_info": {
   "codemirror_mode": {
    "name": "ipython",
    "version": 3
   },
   "file_extension": ".py",
   "mimetype": "text/x-python",
   "name": "python",
   "nbconvert_exporter": "python",
   "pygments_lexer": "ipython3",
   "version": "3.10.13"
  }
 },
 "nbformat": 4,
 "nbformat_minor": 5
}
